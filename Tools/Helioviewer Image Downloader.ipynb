{
 "cells": [
  {
   "cell_type": "code",
   "execution_count": null,
   "metadata": {
    "collapsed": false
   },
   "outputs": [],
   "source": [
    "from PIL import Image\n",
    "import requests\n",
    "import shutil\n",
    "import re\n",
    "import os\n",
    "import json\n",
    "\n",
    "import datetime\n",
    "from datetime import datetime\n",
    "from datetime import timedelta"
   ]
  },
  {
   "cell_type": "code",
   "execution_count": null,
   "metadata": {
    "collapsed": true
   },
   "outputs": [],
   "source": [
    "jhv_api = 'https://api.helioviewer.org/v2/'"
   ]
  },
  {
   "cell_type": "code",
   "execution_count": null,
   "metadata": {
    "collapsed": false
   },
   "outputs": [],
   "source": [
    "delta = timedelta(seconds = 12)\n",
    "start = datetime(2017, 9, 11, 0, 0, 0)\n",
    "end   = datetime(2017, 9, 12, 0, 0, 0)\n",
    "current = start;\n",
    "preDate = \"\"\n",
    "\n",
    "while end > current:\n",
    "    payload = {'date': current.isoformat() + \"Z\", 'sourceId':'10'}\n",
    "    r = requests.get(jhv_api+'getClosestImage/', payload)\n",
    "    curDate = json.loads(r.content)['date']\n",
    "    \n",
    "    if curDate != preDate:\n",
    "        print(curDate)\n",
    "        preDate = curDate\n",
    "        r = requests.get(jhv_api+'getJP2Image/', payload, stream=True)\n",
    "        if r.status_code == 200:\n",
    "            d = r.headers['content-disposition']\n",
    "            fnames = re.findall(\"filename=(.+)\", d)\n",
    "            base = os.path.splitext(fnames[0].strip(\"'\").strip(\"\\\"\"))[0]\n",
    "            with open(base + \".jp2\", 'wb') as out_file:\n",
    "                shutil.copyfileobj(r.raw, out_file)\n",
    "\n",
    "            img = Image.open(base + \".jp2\")\n",
    "            img.save(base + \".bmp\", \"BMP\")\n",
    "            img.save(base + \".jpg\", \"JPEG\")\n",
    "            del img\n",
    "        del r\n",
    "    \n",
    "    current = current + delta"
   ]
  },
  {
   "cell_type": "code",
   "execution_count": null,
   "metadata": {
    "collapsed": true
   },
   "outputs": [],
   "source": []
  }
 ],
 "metadata": {
  "kernelspec": {
   "display_name": "Python [default]",
   "language": "python",
   "name": "python3"
  },
  "language_info": {
   "codemirror_mode": {
    "name": "ipython",
    "version": 3
   },
   "file_extension": ".py",
   "mimetype": "text/x-python",
   "name": "python",
   "nbconvert_exporter": "python",
   "pygments_lexer": "ipython3",
   "version": "3.6.0"
  }
 },
 "nbformat": 4,
 "nbformat_minor": 2
}
